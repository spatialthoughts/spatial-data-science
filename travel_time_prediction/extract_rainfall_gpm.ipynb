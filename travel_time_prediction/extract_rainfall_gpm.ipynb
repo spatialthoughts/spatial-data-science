{
 "cells": [
  {
   "cell_type": "markdown",
   "metadata": {},
   "source": [
    "## Rainfall Data Extraction from GPM\n",
    "\n",
    "Global Precipitation Measurement (GPM) is an international satellite mission to provide next-generation observations of rain and snow worldwide every three hours. For our project, we needed to extract amount of historic rainfall in a given region during a specific time-window in a day. \n",
    "\n",
    "This notebook shows you one can use the Google Earth Engine API to extract this information from the satellite data.\n",
    "\n"
   ]
  },
  {
   "cell_type": "code",
   "execution_count": null,
   "metadata": {
    "id": "4E1Zt35i4Qi8"
   },
   "outputs": [],
   "source": [
    "import ee"
   ]
  },
  {
   "cell_type": "code",
   "execution_count": null,
   "metadata": {
    "colab": {
     "base_uri": "https://localhost:8080/"
    },
    "id": "fDXHW7WZ4Z6-",
    "outputId": "c2b41585-389c-4d60-dbff-9ec38dbfc18c"
   },
   "outputs": [],
   "source": [
    "# Trigger the authentication flow.\n",
    "ee.Authenticate()\n",
    "\n",
    "# Initialize the library.\n",
    "ee.Initialize()"
   ]
  },
  {
   "cell_type": "markdown",
   "metadata": {},
   "source": [
    "We need to know what amount of rainfall was recorded at each of the 198 wards of the city. `bangalore` contains the ward boundaries shapefile uploaded to Google Earth Engine"
   ]
  },
  {
   "cell_type": "code",
   "execution_count": null,
   "metadata": {
    "id": "xgc6NOX_5KoB"
   },
   "outputs": [],
   "source": [
    "gpm = ee.ImageCollection(\"NASA/GPM_L3/IMERG_V06\"),\n",
    "bangalore = ee.FeatureCollection(\"users/vishnuprasadjs21/bangalore_ward\");"
   ]
  },
  {
   "cell_type": "markdown",
   "metadata": {},
   "source": [
    "We need to extract rainfall data for the following time-periods\n",
    "\n",
    "* midnight-7am\n",
    "* 7am - 10am\n",
    "* 10am - 4pm\n",
    "* 4pm - 7pm\n",
    "* 7pm - mignight\n",
    "\n",
    "We need to do this for all days of the Quarter 1, 2020. "
   ]
  },
  {
   "cell_type": "code",
   "execution_count": null,
   "metadata": {
    "id": "uVk34iBV6_oS"
   },
   "outputs": [],
   "source": [
    "periodlist = ee.List([[0, 7], [7,10], [10, 16],[16,19],[19,24]])\n",
    "year = 2020;\n",
    "day_of_year = ee.List.sequence(1,91);\n",
    "start_date = ee.Date.fromYMD(2020, 1, 1);"
   ]
  },
  {
   "cell_type": "code",
   "execution_count": null,
   "metadata": {
    "colab": {
     "base_uri": "https://localhost:8080/"
    },
    "id": "J3ViJDPnIDYU",
    "outputId": "c7676caf-c24e-4d8e-990f-d276df94d063"
   },
   "outputs": [
    {
     "data": {
      "text/plain": [
       "<ee.imagecollection.ImageCollection at 0x7f2ba66a4da0>"
      ]
     },
     "execution_count": 10,
     "metadata": {
      "tags": []
     },
     "output_type": "execute_result"
    }
   ],
   "source": [
    "gpm"
   ]
  },
  {
   "cell_type": "code",
   "execution_count": null,
   "metadata": {
    "id": "L-5pjU0QSuuE"
   },
   "outputs": [],
   "source": [
    "def period_rain(period,day):\n",
    "\n",
    "    s = ee.List(period).get(0);\n",
    "    e = ee.List(period).get(1);\n",
    "    start = start_date.advance(ee.Number(day).subtract(1),'day').advance(s,'hour')\n",
    "    end = start_date.advance(ee.Number(day).subtract(1),'day').advance(e,'hour')\n",
    "    filtered = gpm.filter(ee.Filter.calendarRange(day,day,'DAY_OF_YEAR')).filter(ee.Filter.date(start,end)).reduce(ee.Reducer.sum()).select('precipitationCal_sum').divide(2)\n",
    "    \n",
    "    stats =filtered.reduceRegions(collection= bangalore,reducer= ee.Reducer.mean(),scale= 5000)\n",
    "          \n",
    "    dup = stats.map(lambda i : i.set({'year':year,'day_of_year': day,'Time_period':period,'Precipitation_sum':i.get('mean')}).setGeometry())\n",
    "    \n",
    "    return dup"
   ]
  },
  {
   "cell_type": "code",
   "execution_count": null,
   "metadata": {
    "id": "XusnpJN6cS-g"
   },
   "outputs": [],
   "source": [
    "rainfall = day_of_year.map(lambda day : periodlist.map(lambda period: period_rain(period,day) ).flatten())"
   ]
  },
  {
   "cell_type": "markdown",
   "metadata": {},
   "source": [
    "The output is a nested collection of data for each period, for each day of the quarter. Use `flatten()` to create a flattened collection that can be exported."
   ]
  },
  {
   "cell_type": "code",
   "execution_count": null,
   "metadata": {
    "id": "wIvLGYARymCD"
   },
   "outputs": [],
   "source": [
    "output = ee.FeatureCollection(rainfall.flatten()).flatten()"
   ]
  },
  {
   "cell_type": "code",
   "execution_count": null,
   "metadata": {
    "colab": {
     "base_uri": "https://localhost:8080/"
    },
    "id": "MSxqJpAzn7sg",
    "outputId": "0e60e7e8-71ea-447f-d8c8-389099c53e1a"
   },
   "outputs": [
    {
     "data": {
      "text/plain": [
       "{'geometry': None,\n",
       " 'id': '0_0000000000000000008a',\n",
       " 'properties': {'DISPLAY_NA': '0 3rd Cross Road, 4N Block, Ramchandrapuram, Srirampura, Bengaluru',\n",
       "  'MOVEMENT_I': '102',\n",
       "  'Precipitation_sum': 0,\n",
       "  'Time_period': [0, 7],\n",
       "  'WARD_NAME': 'Okalipuram',\n",
       "  'WARD_NO': '96',\n",
       "  'day_of_year': 1,\n",
       "  'mean': 0,\n",
       "  'year': 2020},\n",
       " 'type': 'Feature'}"
      ]
     },
     "execution_count": 31,
     "metadata": {
      "tags": []
     },
     "output_type": "execute_result"
    }
   ],
   "source": [
    "output.first().getInfo()"
   ]
  },
  {
   "cell_type": "code",
   "execution_count": null,
   "metadata": {
    "id": "Q0rd0ajAOQRQ"
   },
   "outputs": [],
   "source": [
    "task = ee.batch.Export.table.toDrive( collection= output,folder='earthengine',description='rainfall_bg',fileFormat= 'csv')"
   ]
  },
  {
   "cell_type": "code",
   "execution_count": null,
   "metadata": {
    "id": "VVpJhFpvOWSD"
   },
   "outputs": [],
   "source": [
    "task.start()"
   ]
  },
  {
   "cell_type": "code",
   "execution_count": null,
   "metadata": {
    "colab": {
     "base_uri": "https://localhost:8080/"
    },
    "id": "lenBrz4DyS8R",
    "outputId": "af4373bd-7a72-4951-b21e-30107885ee59"
   },
   "outputs": [
    {
     "data": {
      "text/plain": [
       "{'creation_timestamp_ms': 1608870931013,\n",
       " 'description': 'rainfall_bg',\n",
       " 'id': 'DPCOETKW7X26NEF37WP7LIPF',\n",
       " 'name': 'projects/earthengine-legacy/operations/DPCOETKW7X26NEF37WP7LIPF',\n",
       " 'start_timestamp_ms': 0,\n",
       " 'state': 'READY',\n",
       " 'task_type': 'EXPORT_FEATURES',\n",
       " 'update_timestamp_ms': 1608870931013}"
      ]
     },
     "execution_count": 17,
     "metadata": {
      "tags": []
     },
     "output_type": "execute_result"
    }
   ],
   "source": [
    "task.status()"
   ]
  }
 ],
 "metadata": {
  "colab": {
   "collapsed_sections": [],
   "name": "rainfall_ext",
   "provenance": []
  },
  "kernelspec": {
   "display_name": "Python 3",
   "language": "python",
   "name": "python3"
  },
  "language_info": {
   "codemirror_mode": {
    "name": "ipython",
    "version": 3
   },
   "file_extension": ".py",
   "mimetype": "text/x-python",
   "name": "python",
   "nbconvert_exporter": "python",
   "pygments_lexer": "ipython3",
   "version": "3.9.1"
  }
 },
 "nbformat": 4,
 "nbformat_minor": 4
}
